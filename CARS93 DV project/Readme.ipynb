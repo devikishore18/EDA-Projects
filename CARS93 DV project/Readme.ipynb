{
 "cells": [
  {
   "cell_type": "markdown",
   "id": "9a2234f5-3516-4239-bdf7-e42c3e115227",
   "metadata": {},
   "source": [
    "# Data Visualization with Python 🚀\n",
    "\n",
    "**9‑Hour Course Project** — Applied key visualization techniques using Python to explore and interpret real-world datasets.\n",
    "\n",
    "---\n",
    "\n",
    "## 📊 Overview\n",
    "This project is the result of a hands‑on journey through a 9-hour **Data Visualization using Python** course. It demonstrates:\n",
    "- Selection of appropriate plotting techniques based on data type\n",
    "- Creation of visualizations like box plots, scatter plots, line charts, dot charts, bar graphs, and histograms\n",
    "- Application of design elements like titles, labels, colors, legends\n",
    "- Real-world data exploration through a complete project\n",
    "\n",
    "---\n",
    "\n",
    "## 💡 Motivation\n",
    "Visualizing data transforms raw numbers into actionable insights. This project bridges theoretical concepts with practical skills, aimed at improving the clarity and interpretability of data narratives.\n",
    "\n",
    "---\n",
    "\n",
    "## 🧰 Built With\n",
    "| Tool / Library       | Purpose                              |\n",
    "|----------------------|--------------------------------------|\n",
    "| Python 3.x           | Programming language                 |\n",
    "| Pandas               | Data loading and manipulation        |\n",
    "| Matplotlib           | Core plotting library                |\n",
    "| Seaborn              | Statistical plotting and aesthetics  |\n",
    "| Plotly (optional)    | Interactive and web-based visuals    |\n",
    "\n",
    "---\n",
    "\n",
    "## 🚀 Features\n",
    "- 📦 Box plot for statistical insight  \n",
    "- ✈️ Scatter plot for relationship analysis  \n",
    "- 📉 Line chart for trend visualization  \n",
    "- 🔘 Dot chart for comparison  \n",
    "- 📊 Bar graph for categorical data comparison  \n",
    "- 📈 Histogram for distribution understanding  \n",
    "\n",
    "---\n",
    "\n",
    "\n"
   ]
  },
  {
   "cell_type": "markdown",
   "id": "6288357a-edb8-4f7f-8d2f-99661825af66",
   "metadata": {},
   "source": [
    "## 🚗 Overview: Cars93 \n",
    "Rows: 93 car models\n",
    "\n",
    "Columns: 27 variables\n",
    "\n",
    "Dataset Description: Represents cars randomly selected from 1993 Consumer Reports and PACE Buying Guide, excluding pickups and SUVs. Duplicate models were included only once\n"
   ]
  },
  {
   "cell_type": "markdown",
   "id": "0e3eca13-ea29-42dc-90b4-c114e607bdb6",
   "metadata": {},
   "source": [
    "## Key Variables"
   ]
  },
  {
   "cell_type": "markdown",
   "id": "5710e160-4008-4793-8022-957ba31f49b9",
   "metadata": {},
   "source": [
    "| Variable                         | Description                                                                               |\n",
    "| -------------------------------- | ----------------------------------------------------------------------------------------- |\n",
    "| `Manufacturer`                   | Brand name                                                                                |\n",
    "| `Model`                          | Car model                                                                                 |\n",
    "| `Type`                           | Category: Small, Sporty, Compact, Midsize, Large, Van                                     |\n",
    "| `Min.Price`                      | Base price (\\$1,000s)                                                                     |\n",
    "| `Price` (Mid.Price)              | Mid-range average price (\\$1,000s)                                                        |\n",
    "| `Max.Price`                      | Premium version price (\\$1,000s)                                                          |\n",
    "| `MPG.city` / `MPG.highway`       | Fuel economy (EPA ratings)                                                                |\n",
    "| `AirBags`                        | Safety: none, driver only, driver & passenger                                             |\n",
    "| `DriveTrain`                     | Rear / Front / All-wheel drive                                                            |\n",
    "| `Cylinders`                      | Engine cylinder count (NA for rotary engine)                                              |\n",
    "| `EngineSize`                     | Engine displacement in liters                                                             |\n",
    "| `Horsepower`                     | Maximum HP                                                                                |\n",
    "| `RPM`                            | RPM at max HP                                                                             |\n",
    "| `Rev.per.mile`                   | Engine revolutions per mile                                                               |\n",
    "| `Man.trans.avail`                | Manual transmission available? (yes/no)                                                   |\n",
    "| `Fuel.tank.capacity`             | Tank size (gallons)                                                                       |\n",
    "| `Passengers`                     | Seating capacity                                                                          |\n",
    "| `Length`, `Wheelbase`, `Width`   | Car dimensions (inches)                                                                   |\n",
    "| `Turn.circle`                    | U-turn turning radius (feet)                                                              |\n",
    "| `Rear.seat.room`, `Luggage.room` | Rear seat space (inches) and trunk capacity (cu. ft.)                                     |\n",
    "| `Weight`                         | Weight (lbs)                                                                              |\n",
    "| `Origin`                         | US or non-US manufacturer                                                                 |\n",
    "| `Make`                           | Manufacturer and Model string |\n"
   ]
  },
  {
   "cell_type": "markdown",
   "id": "a6f9090e-5e0c-49a7-ab6a-30cf73d63a51",
   "metadata": {},
   "source": [
    "## Solving real time questions using Data Visualization"
   ]
  },
  {
   "cell_type": "markdown",
   "id": "61ca64eb-6ce5-4b74-9612-c95ad51f9c19",
   "metadata": {
    "jp-MarkdownHeadingCollapsed": true
   },
   "source": [
    "## Let us consider a use case, where a cutomer wishes to buy a car. Following are some of the questions that the customer might have before the purchase.\n",
    "\n",
    "What is the price range of different cars available in the market?\n",
    "\n",
    "What is the range of horsepower and mileage of various cars?\n",
    "\n",
    "Does a car with higher horsepower give lower mileage?\n",
    "\n",
    "How much leg space does the car have?\n",
    "\n",
    "How many passengers can the car carry based on its type?"
   ]
  },
  {
   "cell_type": "markdown",
   "id": "f4d1d151-aa1e-4db7-8aa1-33d5552c2cf6",
   "metadata": {},
   "source": [
    "## 1. What is the price range of different cars available in the market?\n",
    "\n",
    "It can be observed through box plot for the variable price that, if the outliers are excluded, then:\n",
    "\n",
    "minimum price of a car comes close to 10 thousand dollars and maximum price comes close to 40 thousand dollars\n",
    "\n",
    "most cars are priced approximately between 11 thousand dollars to 22 thousand dollars"
   ]
  },
  {
   "cell_type": "markdown",
   "id": "69bd2f2d-9097-487d-910b-d8aadecf709e",
   "metadata": {},
   "source": [
    "## 2.What is the range of horsepower and mileage of various cars?\n",
    "\n",
    "The range of horsepower without outliers is in order of 60 – 260 while that of mileage is 15 – 34 MPG. And it is observed by box plot for Horsepower and Mileage\n",
    "\n"
   ]
  },
  {
   "cell_type": "markdown",
   "id": "16ba7eb6-b154-4ed6-b899-522e2eee63fa",
   "metadata": {},
   "source": [
    "## 3.Does a car with higher horsepower give lower mileage?\n",
    "\n",
    "It can be observed that as horsepower increases the mileage is likely to decrease. This is inferred by plotting Scatter plot between Horsepower and MPG.city\n",
    "\n",
    "A strong positive correlation exists between Price and Horsepower (correlation ≈ 0.79), indicating that higher‑priced cars tend to have more powerful engines, which often result in lower fuel economy"
   ]
  },
  {
   "cell_type": "markdown",
   "id": "e7979022-2481-4388-b372-12eda58bde64",
   "metadata": {},
   "source": [
    "## 4.How much leg space does the car have?\n",
    "Rear seat room varies from about 19 inches (for two-seater models) up to 36 inches, with a median roughly 27.5 inches and an average of 27.8 inches"
   ]
  },
  {
   "cell_type": "markdown",
   "id": "e00a78e3-a3f1-4e17-b9f5-dcb0f29f0c6d",
   "metadata": {},
   "source": [
    "## 5.How many passengers can the car carry based on its type?\n",
    "- Passenger capacity ranges from 2 to 8, with a median of 5 and average of ≈5.09 \n",
    "- By Type (car class):\n",
    "\n",
    "Small and Sporty types typically seat 2–4 passengers\n",
    "\n",
    "Compact, Midsize, and Large types usually seat 4–6\n",
    "\n",
    "Vans generally handle up to 7 or 8 passengers "
   ]
  },
  {
   "cell_type": "code",
   "execution_count": null,
   "id": "268361ab-a301-46a9-80e0-d05c715f5221",
   "metadata": {},
   "outputs": [],
   "source": []
  },
  {
   "cell_type": "code",
   "execution_count": null,
   "id": "c7cfafa4-fb96-48e4-b4cb-bc6c465ab3fb",
   "metadata": {},
   "outputs": [],
   "source": []
  }
 ],
 "metadata": {
  "kernelspec": {
   "display_name": "Python 3 (ipykernel)",
   "language": "python",
   "name": "python3"
  },
  "language_info": {
   "codemirror_mode": {
    "name": "ipython",
    "version": 3
   },
   "file_extension": ".py",
   "mimetype": "text/x-python",
   "name": "python",
   "nbconvert_exporter": "python",
   "pygments_lexer": "ipython3",
   "version": "3.13.1"
  }
 },
 "nbformat": 4,
 "nbformat_minor": 5
}
